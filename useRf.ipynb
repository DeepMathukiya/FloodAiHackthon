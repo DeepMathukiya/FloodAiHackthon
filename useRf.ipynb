{
 "cells": [
  {
   "cell_type": "code",
   "execution_count": 4,
   "metadata": {},
   "outputs": [],
   "source": [
    "from joblib import load\n",
    "model = load('random_forest_model.joblib')\n"
   ]
  },
  {
   "cell_type": "code",
   "execution_count": 2,
   "metadata": {},
   "outputs": [],
   "source": [
    "import pandas as pd\n",
    "import numpy as np\n",
    "from sklearn.model_selection import train_test_split\n",
    "from sklearn.ensemble import RandomForestRegressor\n",
    "from sklearn.metrics import mean_squared_error\n",
    "from sklearn.preprocessing import LabelEncoder"
   ]
  },
  {
   "cell_type": "code",
   "execution_count": null,
   "metadata": {},
   "outputs": [],
   "source": []
  },
  {
   "cell_type": "code",
   "execution_count": 5,
   "metadata": {},
   "outputs": [
    {
     "name": "stdout",
     "output_type": "stream",
     "text": [
      "Root Mean Squared Error: 13.350110325370766\n"
     ]
    }
   ],
   "source": [
    "\n",
    "# Load the data\n",
    "df = pd.read_csv('combined_rainfall_data.csv')\n",
    "\n",
    "# Convert date to datetime\n",
    "df['date'] = pd.to_datetime(df['date'],format=\"%Y-%m-%d\")\n",
    "\n",
    "# Create additional time-based features\n",
    "df['year'] = df['date'].dt.year\n",
    "df['month'] = df['date'].dt.month\n",
    "df['day'] = df['date'].dt.day\n",
    "df['dayofweek'] = df['date'].dt.dayofweek\n",
    "\n",
    "# Create lag features (previous day's rainfall)\n",
    "df['rainfall_lag1'] = df.groupby(['lat', 'lon'])['rainfall'].shift(1)\n",
    "\n",
    "# Drop rows with NaN values\n",
    "df = df.dropna()\n",
    "\n",
    "# Prepare features and target\n",
    "features = ['lat', 'lon', 'year', 'month', 'day', 'dayofweek', 'rainfall_lag1']\n",
    "X = df[features]\n",
    "y = df['rainfall']\n",
    "\n",
    "# Split the data into training and testing sets\n",
    "X_train, X_test, y_train, y_test = train_test_split(X, y, test_size=0.2, random_state=42)\n",
    "\n",
    "\n",
    "# Make predictions on the test set\n",
    "y_pred = model.predict(X_test)\n",
    "\n",
    "# Evaluate the model\n",
    "mse = mean_squared_error(y_test, y_pred)\n",
    "rmse = np.sqrt(mse)\n",
    "print(f\"Root Mean Squared Error: {rmse}\")\n",
    "\n",
    "# Function to predict rainfall for a given date and location\n",
    "def predict_rainfall(date, lat, lon):\n",
    "    # Create a DataFrame with the input data\n",
    "    input_data = pd.DataFrame({\n",
    "        'date': [pd.to_datetime(date)],\n",
    "        'lat': [lat],\n",
    "        'lon': [lon]\n",
    "    })\n",
    "    \n",
    "    # Add time-based features\n",
    "    input_data['year'] = input_data['date'].dt.year\n",
    "    input_data['month'] = input_data['date'].dt.month\n",
    "    input_data['day'] = input_data['date'].dt.day\n",
    "    input_data['dayofweek'] = input_data['date'].dt.dayofweek\n",
    "    \n",
    "    # Add lag feature (you might want to update this based on your data)\n",
    "    input_data['rainfall_lag1'] = df[(df['lat'] == lat) & (df['lon'] == lon)]['rainfall'].iloc[-1]\n",
    "    \n",
    "    # Make prediction\n",
    "    prediction = model.predict(input_data[features])\n",
    "    \n",
    "    return prediction[0]\n",
    "\n",
    "# Example usage\n"
   ]
  },
  {
   "cell_type": "code",
   "execution_count": 7,
   "metadata": {},
   "outputs": [
    {
     "data": {
      "text/plain": [
       "0.00015785830793901698"
      ]
     },
     "execution_count": 7,
     "metadata": {},
     "output_type": "execute_result"
    }
   ],
   "source": [
    "predict_rainfall('2020-01-01', 18.875,73.125)"
   ]
  },
  {
   "cell_type": "code",
   "execution_count": null,
   "metadata": {},
   "outputs": [],
   "source": []
  }
 ],
 "metadata": {
  "kernelspec": {
   "display_name": ".venvv",
   "language": "python",
   "name": "python3"
  },
  "language_info": {
   "codemirror_mode": {
    "name": "ipython",
    "version": 3
   },
   "file_extension": ".py",
   "mimetype": "text/x-python",
   "name": "python",
   "nbconvert_exporter": "python",
   "pygments_lexer": "ipython3",
   "version": "3.11.5"
  }
 },
 "nbformat": 4,
 "nbformat_minor": 2
}
